{
 "cells": [
  {
   "cell_type": "code",
   "execution_count": 1,
   "metadata": {},
   "outputs": [],
   "source": [
    "import pandas as pd\n",
    "import matplotlib.pyplot as plt\n",
    "from sri_from_csv import remove_trailing_epochs, calculate_sri, calculate_midpoint, plot_sleep"
   ]
  },
  {
   "cell_type": "code",
   "execution_count": 2,
   "metadata": {},
   "outputs": [
    {
     "name": "stderr",
     "output_type": "stream",
     "text": [
      "/Users/mme/projects/sri/sri_from_csv.py:58: UserWarning: Removing 424 trailing epochs\n",
      "  warnings.warn('Removing %i trailing epochs' % extra_epochs)\n"
     ]
    }
   ],
   "source": [
    "# Read data from test file\n",
    "# Note that this file uses 30 second epochs (i.e. 2880 epochs per day)\n",
    "\n",
    "EPOCHS_PER_DAY = 2880\n",
    "sleep = remove_trailing_epochs(\n",
    "    pd.read_csv('test.csv')['sleep'].values\n",
    ")"
   ]
  },
  {
   "cell_type": "code",
   "execution_count": 3,
   "metadata": {},
   "outputs": [
    {
     "data": {
      "image/png": "[encoded data removed]",
      "text/plain": [
       "<Figure size 720x360 with 1 Axes>"
      ]
     },
     "metadata": {
      "needs_background": "light"
     },
     "output_type": "display_data"
    }
   ],
   "source": [
    "# Visualize sleep data\n",
    "\n",
    "plt.figure(figsize=(10,5))\n",
    "plot_sleep(sleep, epochs_per_day=EPOCHS_PER_DAY, fignum=1)"
   ]
  },
  {
   "cell_type": "code",
   "execution_count": 4,
   "metadata": {},
   "outputs": [
    {
     "name": "stdout",
     "output_type": "stream",
     "text": [
      "The SRI is 80.7\n",
      "The sleep midpoint is epoch 956\n"
     ]
    }
   ],
   "source": [
    "# Calculate SRI (with 2880 epochs per day)\n",
    "\n",
    "sri = calculate_sri(sleep, epochs_per_day=EPOCHS_PER_DAY)\n",
    "midpoint = calculate_midpoint(sleep, epochs_per_day=EPOCHS_PER_DAY)\n",
    "\n",
    "print('The SRI is %.1f' % sri)\n",
    "print('The sleep midpoint is epoch %i' % midpoint)"
   ]
  },
  {
   "cell_type": "code",
   "execution_count": null,
   "metadata": {},
   "outputs": [],
   "source": []
  }
 ],
 "metadata": {
  "kernelspec": {
   "display_name": "Python 3 (ipykernel)",
   "language": "python",
   "name": "python3"
  },
  "language_info": {
   "codemirror_mode": {
    "name": "ipython",
    "version": 3
   },
   "file_extension": ".py",
   "mimetype": "text/x-python",
   "name": "python",
   "nbconvert_exporter": "python",
   "pygments_lexer": "ipython3",
   "version": "3.9.6"
  }
 },
 "nbformat": 4,
 "nbformat_minor": 2
}
